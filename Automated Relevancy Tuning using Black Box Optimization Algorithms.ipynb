{
 "cells": [
  {
   "cell_type": "code",
   "execution_count": 1,
   "metadata": {
    "collapsed": true
   },
   "outputs": [],
   "source": [
    "import solr\n",
    "import pandas as pd"
   ]
  },
  {
   "cell_type": "markdown",
   "metadata": {},
   "source": [
    "# Settings"
   ]
  },
  {
   "cell_type": "code",
   "execution_count": 26,
   "metadata": {
    "collapsed": true
   },
   "outputs": [],
   "source": [
    "#Settings\n",
    "# Note: this is an artificial set of jobs, these are not real jobs, but are representative of our data\n",
    "# Job descriptions are omitted, but usually we search that field also\n",
    "data_file = \"jobs.csv\"\n",
    "\n",
    "#solr url and core (Jobs)\n",
    "solr_url = \"http://localhost:8983/solr/Jobs\""
   ]
  },
  {
   "cell_type": "markdown",
   "metadata": {},
   "source": [
    "# Read in Jobs Data, Index in Solr Jobs Core"
   ]
  },
  {
   "cell_type": "code",
   "execution_count": 27,
   "metadata": {
    "collapsed": false
   },
   "outputs": [
    {
     "data": {
      "text/html": [
       "<div>\n",
       "<table border=\"1\" class=\"dataframe\">\n",
       "  <thead>\n",
       "    <tr style=\"text-align: right;\">\n",
       "      <th></th>\n",
       "      <th>jobTitle</th>\n",
       "      <th>jobSkills</th>\n",
       "      <th>employer</th>\n",
       "      <th>city</th>\n",
       "      <th>state</th>\n",
       "      <th>geoCode</th>\n",
       "      <th>id</th>\n",
       "    </tr>\n",
       "  </thead>\n",
       "  <tbody>\n",
       "    <tr>\n",
       "      <th>0</th>\n",
       "      <td>Lead Developer</td>\n",
       "      <td>[Project management, Java, Programming, QA]</td>\n",
       "      <td>IT Services and Networking Corp.</td>\n",
       "      <td>New York</td>\n",
       "      <td>NY</td>\n",
       "      <td>40.7127837,-74.0059413</td>\n",
       "      <td>0</td>\n",
       "    </tr>\n",
       "    <tr>\n",
       "      <th>1</th>\n",
       "      <td>Cloud Developer</td>\n",
       "      <td>[QA, Software engineering, Compiler, Network, ...</td>\n",
       "      <td>Large Search Giant Llc.</td>\n",
       "      <td>Des Moines</td>\n",
       "      <td>IA</td>\n",
       "      <td>41.6005448,-93.6091064</td>\n",
       "      <td>1</td>\n",
       "    </tr>\n",
       "    <tr>\n",
       "      <th>2</th>\n",
       "      <td>Application Developer</td>\n",
       "      <td>[J2EE, Oracle, XML, QA, jQuery, JDBC, BIND, IBM]</td>\n",
       "      <td>Acme Inc</td>\n",
       "      <td>Des Moines</td>\n",
       "      <td>IA</td>\n",
       "      <td>41.6005448,-93.6091064</td>\n",
       "      <td>2</td>\n",
       "    </tr>\n",
       "    <tr>\n",
       "      <th>3</th>\n",
       "      <td>Application Developer</td>\n",
       "      <td>[Programming, Lifecycle management, Network]</td>\n",
       "      <td>IT Services and Networking Corp.</td>\n",
       "      <td>Chicago</td>\n",
       "      <td>IL</td>\n",
       "      <td>41.8781136,-87.6297982</td>\n",
       "      <td>3</td>\n",
       "    </tr>\n",
       "    <tr>\n",
       "      <th>4</th>\n",
       "      <td>Pega Developer</td>\n",
       "      <td>[QA, Agile, Architecture]</td>\n",
       "      <td>Scientists and Quants Inc</td>\n",
       "      <td>New York</td>\n",
       "      <td>NY</td>\n",
       "      <td>40.7127837,-74.0059413</td>\n",
       "      <td>4</td>\n",
       "    </tr>\n",
       "  </tbody>\n",
       "</table>\n",
       "</div>"
      ],
      "text/plain": [
       "                jobTitle                                          jobSkills  \\\n",
       "0         Lead Developer        [Project management, Java, Programming, QA]   \n",
       "1        Cloud Developer  [QA, Software engineering, Compiler, Network, ...   \n",
       "2  Application Developer   [J2EE, Oracle, XML, QA, jQuery, JDBC, BIND, IBM]   \n",
       "3  Application Developer       [Programming, Lifecycle management, Network]   \n",
       "4         Pega Developer                          [QA, Agile, Architecture]   \n",
       "\n",
       "                           employer        city state                 geoCode  \\\n",
       "0  IT Services and Networking Corp.    New York    NY  40.7127837,-74.0059413   \n",
       "1           Large Search Giant Llc.  Des Moines    IA  41.6005448,-93.6091064   \n",
       "2                          Acme Inc  Des Moines    IA  41.6005448,-93.6091064   \n",
       "3  IT Services and Networking Corp.     Chicago    IL  41.8781136,-87.6297982   \n",
       "4         Scientists and Quants Inc    New York    NY  40.7127837,-74.0059413   \n",
       "\n",
       "   id  \n",
       "0   0  \n",
       "1   1  \n",
       "2   2  \n",
       "3   3  \n",
       "4   4  "
      ]
     },
     "execution_count": 27,
     "metadata": {},
     "output_type": "execute_result"
    }
   ],
   "source": [
    "# Note: You can skip this section if you were able to load the Solr Jobs Core along with the data directory from the \n",
    "# './Solr Core and Config' sub-folder. Older versions of Solr won't read this data, so here's some code to populate \n",
    "# the index from the jobs.csv file\n",
    "\n",
    "df = pd.read_csv(\"jobs.csv\", sep=\",\")\n",
    "df[\"jobSkills\"] = df[\"jobSkills\"].apply(lambda sk: sk.split(\"|\"))\n",
    "# assign a unique doc id to each row\n",
    "df[\"id\"] = range(len(df))\n",
    "df.head(5)"
   ]
  },
  {
   "cell_type": "code",
   "execution_count": 28,
   "metadata": {
    "collapsed": false
   },
   "outputs": [
    {
     "data": {
      "text/plain": [
       "'<?xml version=\"1.0\" encoding=\"UTF-8\"?>\\n<response>\\n<lst name=\"responseHeader\"><int name=\"status\">0</int><int name=\"QTime\">0</int></lst>\\n</response>\\n'"
      ]
     },
     "execution_count": 28,
     "metadata": {},
     "output_type": "execute_result"
    }
   ],
   "source": [
    "solr_connection = solr.Solr(solr_url, persistent=True, timeout=360, max_retries=5)\n",
    "\n",
    "# convert dataframe to a list of dictionaries (required solr client library document format)\n",
    "docs = df.T.to_dict().values()\n",
    "\n",
    "#wipe out any existing documents if present\n",
    "solr_connection.delete_query(\"*:*\")\n",
    "\n",
    "# send documents\n",
    "solr_connection.add_many(docs)\n",
    "\n",
    "# hard commit and optimize\n",
    "solr_connection.commit()\n",
    "solr_connection.optimize()"
   ]
  },
  {
   "cell_type": "code",
   "execution_count": null,
   "metadata": {
    "collapsed": true
   },
   "outputs": [],
   "source": []
  }
 ],
 "metadata": {
  "kernelspec": {
   "display_name": "Python 2",
   "language": "python",
   "name": "python2"
  },
  "language_info": {
   "codemirror_mode": {
    "name": "ipython",
    "version": 2
   },
   "file_extension": ".py",
   "mimetype": "text/x-python",
   "name": "python",
   "nbconvert_exporter": "python",
   "pygments_lexer": "ipython2",
   "version": "2.7.11"
  }
 },
 "nbformat": 4,
 "nbformat_minor": 0
}
